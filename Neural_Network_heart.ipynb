{
  "nbformat": 4,
  "nbformat_minor": 0,
  "metadata": {
    "colab": {
      "provenance": [],
      "authorship_tag": "ABX9TyOEBPZGYsX4RfTVZcoBdnvy"
    },
    "kernelspec": {
      "name": "python3",
      "display_name": "Python 3"
    },
    "language_info": {
      "name": "python"
    }
  },
  "cells": [
    {
      "cell_type": "code",
      "execution_count": 1,
      "metadata": {
        "id": "TWcHB_XHwA_m"
      },
      "outputs": [],
      "source": [
        "import sys\n",
        "import pandas as pd\n",
        "import numpy as np\n",
        "import sklearn\n",
        "import matplotlib\n",
        "import keras\n",
        "import matplotlib.pyplot as plt\n",
        "import seaborn as sns\n",
        "\n",
        "from pandas.plotting import scatter_matrix"
      ]
    },
    {
      "cell_type": "code",
      "source": [
        "#prepare my ,achine for direct import dataset\n",
        "\n",
        "#from google.colab import drive\n",
        "#drive.mount(\"/content/gdrive\")\n",
        "\n",
        "\n"
      ],
      "metadata": {
        "id": "CiPwZuooxBgq"
      },
      "execution_count": null,
      "outputs": []
    },
    {
      "cell_type": "code",
      "source": [],
      "metadata": {
        "id": "KyQv7hX_kxWo"
      },
      "execution_count": null,
      "outputs": []
    },
    {
      "cell_type": "code",
      "source": [
        "#creating a uploader and upload my dataset\n",
        "\n",
        "from google.colab import files\n",
        "uploaded = files.upload()\n",
        "\n",
        "#url = 'https://drive.google.com/file/d/11JSeNoUgS_thEtI7LaaKEFqcUZdSOP0c/view?usp=drive_link'"
      ],
      "metadata": {
        "id": "2ozlcV0nxY1a",
        "colab": {
          "base_uri": "https://localhost:8080/",
          "height": 108
        },
        "outputId": "a8ce4ebc-30c3-426e-9860-b3b2d0cb1b67"
      },
      "execution_count": 92,
      "outputs": [
        {
          "output_type": "display_data",
          "data": {
            "text/plain": [
              "<IPython.core.display.HTML object>"
            ],
            "text/html": [
              "\n",
              "     <input type=\"file\" id=\"files-10541756-efdb-43c0-9e83-85ffa6c2cc8a\" name=\"files[]\" multiple disabled\n",
              "        style=\"border:none\" />\n",
              "     <output id=\"result-10541756-efdb-43c0-9e83-85ffa6c2cc8a\">\n",
              "      Upload widget is only available when the cell has been executed in the\n",
              "      current browser session. Please rerun this cell to enable.\n",
              "      </output>\n",
              "      <script>// Copyright 2017 Google LLC\n",
              "//\n",
              "// Licensed under the Apache License, Version 2.0 (the \"License\");\n",
              "// you may not use this file except in compliance with the License.\n",
              "// You may obtain a copy of the License at\n",
              "//\n",
              "//      http://www.apache.org/licenses/LICENSE-2.0\n",
              "//\n",
              "// Unless required by applicable law or agreed to in writing, software\n",
              "// distributed under the License is distributed on an \"AS IS\" BASIS,\n",
              "// WITHOUT WARRANTIES OR CONDITIONS OF ANY KIND, either express or implied.\n",
              "// See the License for the specific language governing permissions and\n",
              "// limitations under the License.\n",
              "\n",
              "/**\n",
              " * @fileoverview Helpers for google.colab Python module.\n",
              " */\n",
              "(function(scope) {\n",
              "function span(text, styleAttributes = {}) {\n",
              "  const element = document.createElement('span');\n",
              "  element.textContent = text;\n",
              "  for (const key of Object.keys(styleAttributes)) {\n",
              "    element.style[key] = styleAttributes[key];\n",
              "  }\n",
              "  return element;\n",
              "}\n",
              "\n",
              "// Max number of bytes which will be uploaded at a time.\n",
              "const MAX_PAYLOAD_SIZE = 100 * 1024;\n",
              "\n",
              "function _uploadFiles(inputId, outputId) {\n",
              "  const steps = uploadFilesStep(inputId, outputId);\n",
              "  const outputElement = document.getElementById(outputId);\n",
              "  // Cache steps on the outputElement to make it available for the next call\n",
              "  // to uploadFilesContinue from Python.\n",
              "  outputElement.steps = steps;\n",
              "\n",
              "  return _uploadFilesContinue(outputId);\n",
              "}\n",
              "\n",
              "// This is roughly an async generator (not supported in the browser yet),\n",
              "// where there are multiple asynchronous steps and the Python side is going\n",
              "// to poll for completion of each step.\n",
              "// This uses a Promise to block the python side on completion of each step,\n",
              "// then passes the result of the previous step as the input to the next step.\n",
              "function _uploadFilesContinue(outputId) {\n",
              "  const outputElement = document.getElementById(outputId);\n",
              "  const steps = outputElement.steps;\n",
              "\n",
              "  const next = steps.next(outputElement.lastPromiseValue);\n",
              "  return Promise.resolve(next.value.promise).then((value) => {\n",
              "    // Cache the last promise value to make it available to the next\n",
              "    // step of the generator.\n",
              "    outputElement.lastPromiseValue = value;\n",
              "    return next.value.response;\n",
              "  });\n",
              "}\n",
              "\n",
              "/**\n",
              " * Generator function which is called between each async step of the upload\n",
              " * process.\n",
              " * @param {string} inputId Element ID of the input file picker element.\n",
              " * @param {string} outputId Element ID of the output display.\n",
              " * @return {!Iterable<!Object>} Iterable of next steps.\n",
              " */\n",
              "function* uploadFilesStep(inputId, outputId) {\n",
              "  const inputElement = document.getElementById(inputId);\n",
              "  inputElement.disabled = false;\n",
              "\n",
              "  const outputElement = document.getElementById(outputId);\n",
              "  outputElement.innerHTML = '';\n",
              "\n",
              "  const pickedPromise = new Promise((resolve) => {\n",
              "    inputElement.addEventListener('change', (e) => {\n",
              "      resolve(e.target.files);\n",
              "    });\n",
              "  });\n",
              "\n",
              "  const cancel = document.createElement('button');\n",
              "  inputElement.parentElement.appendChild(cancel);\n",
              "  cancel.textContent = 'Cancel upload';\n",
              "  const cancelPromise = new Promise((resolve) => {\n",
              "    cancel.onclick = () => {\n",
              "      resolve(null);\n",
              "    };\n",
              "  });\n",
              "\n",
              "  // Wait for the user to pick the files.\n",
              "  const files = yield {\n",
              "    promise: Promise.race([pickedPromise, cancelPromise]),\n",
              "    response: {\n",
              "      action: 'starting',\n",
              "    }\n",
              "  };\n",
              "\n",
              "  cancel.remove();\n",
              "\n",
              "  // Disable the input element since further picks are not allowed.\n",
              "  inputElement.disabled = true;\n",
              "\n",
              "  if (!files) {\n",
              "    return {\n",
              "      response: {\n",
              "        action: 'complete',\n",
              "      }\n",
              "    };\n",
              "  }\n",
              "\n",
              "  for (const file of files) {\n",
              "    const li = document.createElement('li');\n",
              "    li.append(span(file.name, {fontWeight: 'bold'}));\n",
              "    li.append(span(\n",
              "        `(${file.type || 'n/a'}) - ${file.size} bytes, ` +\n",
              "        `last modified: ${\n",
              "            file.lastModifiedDate ? file.lastModifiedDate.toLocaleDateString() :\n",
              "                                    'n/a'} - `));\n",
              "    const percent = span('0% done');\n",
              "    li.appendChild(percent);\n",
              "\n",
              "    outputElement.appendChild(li);\n",
              "\n",
              "    const fileDataPromise = new Promise((resolve) => {\n",
              "      const reader = new FileReader();\n",
              "      reader.onload = (e) => {\n",
              "        resolve(e.target.result);\n",
              "      };\n",
              "      reader.readAsArrayBuffer(file);\n",
              "    });\n",
              "    // Wait for the data to be ready.\n",
              "    let fileData = yield {\n",
              "      promise: fileDataPromise,\n",
              "      response: {\n",
              "        action: 'continue',\n",
              "      }\n",
              "    };\n",
              "\n",
              "    // Use a chunked sending to avoid message size limits. See b/62115660.\n",
              "    let position = 0;\n",
              "    do {\n",
              "      const length = Math.min(fileData.byteLength - position, MAX_PAYLOAD_SIZE);\n",
              "      const chunk = new Uint8Array(fileData, position, length);\n",
              "      position += length;\n",
              "\n",
              "      const base64 = btoa(String.fromCharCode.apply(null, chunk));\n",
              "      yield {\n",
              "        response: {\n",
              "          action: 'append',\n",
              "          file: file.name,\n",
              "          data: base64,\n",
              "        },\n",
              "      };\n",
              "\n",
              "      let percentDone = fileData.byteLength === 0 ?\n",
              "          100 :\n",
              "          Math.round((position / fileData.byteLength) * 100);\n",
              "      percent.textContent = `${percentDone}% done`;\n",
              "\n",
              "    } while (position < fileData.byteLength);\n",
              "  }\n",
              "\n",
              "  // All done.\n",
              "  yield {\n",
              "    response: {\n",
              "      action: 'complete',\n",
              "    }\n",
              "  };\n",
              "}\n",
              "\n",
              "scope.google = scope.google || {};\n",
              "scope.google.colab = scope.google.colab || {};\n",
              "scope.google.colab._files = {\n",
              "  _uploadFiles,\n",
              "  _uploadFilesContinue,\n",
              "};\n",
              "})(self);\n",
              "</script> "
            ]
          },
          "metadata": {}
        },
        {
          "output_type": "stream",
          "name": "stdout",
          "text": [
            "Saving Chi_4.csv to Chi_4.csv\n",
            "Saving Chi_6.csv to Chi_6.csv\n"
          ]
        }
      ]
    },
    {
      "cell_type": "code",
      "source": [
        "#read uploaded csv file\n",
        "cleveland = pd.read_csv('Chi_4.csv')"
      ],
      "metadata": {
        "id": "8KTHsFa43bny"
      },
      "execution_count": 107,
      "outputs": []
    },
    {
      "cell_type": "code",
      "source": [
        "print(cleveland)"
      ],
      "metadata": {
        "id": "89dLlHBZ4pO3"
      },
      "execution_count": null,
      "outputs": []
    },
    {
      "cell_type": "code",
      "source": [
        "# print the shape of the DataFrame, so we can see how many examples we have\n",
        "print( 'Shape of DataFrame: {}'.format(cleveland.shape))"
      ],
      "metadata": {
        "colab": {
          "base_uri": "https://localhost:8080/"
        },
        "id": "9mV6BH-E4vP8",
        "outputId": "99ecf7e4-c92f-41c9-d5f3-b8a99e8b7901"
      },
      "execution_count": 100,
      "outputs": [
        {
          "output_type": "stream",
          "name": "stdout",
          "text": [
            "Shape of DataFrame: (1025, 9)\n"
          ]
        }
      ]
    },
    {
      "cell_type": "markdown",
      "source": [
        "# data preprocessing"
      ],
      "metadata": {
        "id": "6y3lC7cI8R0n"
      }
    },
    {
      "cell_type": "code",
      "source": [
        "# remove missing data (indicated with a \"?\")\n",
        "data = cleveland[~cleveland.isin(['?'])]\n",
        "data.loc[0:]\n",
        "\n",
        "# drop rows with NaN values from DataFrame\n",
        "data = data.dropna(axis=0)\n",
        "data.loc[0:]"
      ],
      "metadata": {
        "id": "fytjQZob8Zne",
        "colab": {
          "base_uri": "https://localhost:8080/",
          "height": 423
        },
        "outputId": "5915cd69-a99e-4d1d-f7eb-01a3e531b010"
      },
      "execution_count": 108,
      "outputs": [
        {
          "output_type": "execute_result",
          "data": {
            "text/plain": [
              "      cp  thalach  oldpeak  ca  target\n",
              "0      0      168      1.0   2       0\n",
              "1      0      155      3.1   0       0\n",
              "2      0      125      2.6   0       0\n",
              "3      0      161      0.0   1       0\n",
              "4      0      106      1.9   3       0\n",
              "...   ..      ...      ...  ..     ...\n",
              "1020   1      164      0.0   0       1\n",
              "1021   0      141      2.8   1       0\n",
              "1022   0      118      1.0   1       0\n",
              "1023   0      159      0.0   0       1\n",
              "1024   0      113      1.4   1       0\n",
              "\n",
              "[1025 rows x 5 columns]"
            ],
            "text/html": [
              "\n",
              "  <div id=\"df-eda42179-d4cf-4309-9e19-6ea35108ac89\" class=\"colab-df-container\">\n",
              "    <div>\n",
              "<style scoped>\n",
              "    .dataframe tbody tr th:only-of-type {\n",
              "        vertical-align: middle;\n",
              "    }\n",
              "\n",
              "    .dataframe tbody tr th {\n",
              "        vertical-align: top;\n",
              "    }\n",
              "\n",
              "    .dataframe thead th {\n",
              "        text-align: right;\n",
              "    }\n",
              "</style>\n",
              "<table border=\"1\" class=\"dataframe\">\n",
              "  <thead>\n",
              "    <tr style=\"text-align: right;\">\n",
              "      <th></th>\n",
              "      <th>cp</th>\n",
              "      <th>thalach</th>\n",
              "      <th>oldpeak</th>\n",
              "      <th>ca</th>\n",
              "      <th>target</th>\n",
              "    </tr>\n",
              "  </thead>\n",
              "  <tbody>\n",
              "    <tr>\n",
              "      <th>0</th>\n",
              "      <td>0</td>\n",
              "      <td>168</td>\n",
              "      <td>1.0</td>\n",
              "      <td>2</td>\n",
              "      <td>0</td>\n",
              "    </tr>\n",
              "    <tr>\n",
              "      <th>1</th>\n",
              "      <td>0</td>\n",
              "      <td>155</td>\n",
              "      <td>3.1</td>\n",
              "      <td>0</td>\n",
              "      <td>0</td>\n",
              "    </tr>\n",
              "    <tr>\n",
              "      <th>2</th>\n",
              "      <td>0</td>\n",
              "      <td>125</td>\n",
              "      <td>2.6</td>\n",
              "      <td>0</td>\n",
              "      <td>0</td>\n",
              "    </tr>\n",
              "    <tr>\n",
              "      <th>3</th>\n",
              "      <td>0</td>\n",
              "      <td>161</td>\n",
              "      <td>0.0</td>\n",
              "      <td>1</td>\n",
              "      <td>0</td>\n",
              "    </tr>\n",
              "    <tr>\n",
              "      <th>4</th>\n",
              "      <td>0</td>\n",
              "      <td>106</td>\n",
              "      <td>1.9</td>\n",
              "      <td>3</td>\n",
              "      <td>0</td>\n",
              "    </tr>\n",
              "    <tr>\n",
              "      <th>...</th>\n",
              "      <td>...</td>\n",
              "      <td>...</td>\n",
              "      <td>...</td>\n",
              "      <td>...</td>\n",
              "      <td>...</td>\n",
              "    </tr>\n",
              "    <tr>\n",
              "      <th>1020</th>\n",
              "      <td>1</td>\n",
              "      <td>164</td>\n",
              "      <td>0.0</td>\n",
              "      <td>0</td>\n",
              "      <td>1</td>\n",
              "    </tr>\n",
              "    <tr>\n",
              "      <th>1021</th>\n",
              "      <td>0</td>\n",
              "      <td>141</td>\n",
              "      <td>2.8</td>\n",
              "      <td>1</td>\n",
              "      <td>0</td>\n",
              "    </tr>\n",
              "    <tr>\n",
              "      <th>1022</th>\n",
              "      <td>0</td>\n",
              "      <td>118</td>\n",
              "      <td>1.0</td>\n",
              "      <td>1</td>\n",
              "      <td>0</td>\n",
              "    </tr>\n",
              "    <tr>\n",
              "      <th>1023</th>\n",
              "      <td>0</td>\n",
              "      <td>159</td>\n",
              "      <td>0.0</td>\n",
              "      <td>0</td>\n",
              "      <td>1</td>\n",
              "    </tr>\n",
              "    <tr>\n",
              "      <th>1024</th>\n",
              "      <td>0</td>\n",
              "      <td>113</td>\n",
              "      <td>1.4</td>\n",
              "      <td>1</td>\n",
              "      <td>0</td>\n",
              "    </tr>\n",
              "  </tbody>\n",
              "</table>\n",
              "<p>1025 rows × 5 columns</p>\n",
              "</div>\n",
              "    <div class=\"colab-df-buttons\">\n",
              "\n",
              "  <div class=\"colab-df-container\">\n",
              "    <button class=\"colab-df-convert\" onclick=\"convertToInteractive('df-eda42179-d4cf-4309-9e19-6ea35108ac89')\"\n",
              "            title=\"Convert this dataframe to an interactive table.\"\n",
              "            style=\"display:none;\">\n",
              "\n",
              "  <svg xmlns=\"http://www.w3.org/2000/svg\" height=\"24px\" viewBox=\"0 -960 960 960\">\n",
              "    <path d=\"M120-120v-720h720v720H120Zm60-500h600v-160H180v160Zm220 220h160v-160H400v160Zm0 220h160v-160H400v160ZM180-400h160v-160H180v160Zm440 0h160v-160H620v160ZM180-180h160v-160H180v160Zm440 0h160v-160H620v160Z\"/>\n",
              "  </svg>\n",
              "    </button>\n",
              "\n",
              "  <style>\n",
              "    .colab-df-container {\n",
              "      display:flex;\n",
              "      gap: 12px;\n",
              "    }\n",
              "\n",
              "    .colab-df-convert {\n",
              "      background-color: #E8F0FE;\n",
              "      border: none;\n",
              "      border-radius: 50%;\n",
              "      cursor: pointer;\n",
              "      display: none;\n",
              "      fill: #1967D2;\n",
              "      height: 32px;\n",
              "      padding: 0 0 0 0;\n",
              "      width: 32px;\n",
              "    }\n",
              "\n",
              "    .colab-df-convert:hover {\n",
              "      background-color: #E2EBFA;\n",
              "      box-shadow: 0px 1px 2px rgba(60, 64, 67, 0.3), 0px 1px 3px 1px rgba(60, 64, 67, 0.15);\n",
              "      fill: #174EA6;\n",
              "    }\n",
              "\n",
              "    .colab-df-buttons div {\n",
              "      margin-bottom: 4px;\n",
              "    }\n",
              "\n",
              "    [theme=dark] .colab-df-convert {\n",
              "      background-color: #3B4455;\n",
              "      fill: #D2E3FC;\n",
              "    }\n",
              "\n",
              "    [theme=dark] .colab-df-convert:hover {\n",
              "      background-color: #434B5C;\n",
              "      box-shadow: 0px 1px 3px 1px rgba(0, 0, 0, 0.15);\n",
              "      filter: drop-shadow(0px 1px 2px rgba(0, 0, 0, 0.3));\n",
              "      fill: #FFFFFF;\n",
              "    }\n",
              "  </style>\n",
              "\n",
              "    <script>\n",
              "      const buttonEl =\n",
              "        document.querySelector('#df-eda42179-d4cf-4309-9e19-6ea35108ac89 button.colab-df-convert');\n",
              "      buttonEl.style.display =\n",
              "        google.colab.kernel.accessAllowed ? 'block' : 'none';\n",
              "\n",
              "      async function convertToInteractive(key) {\n",
              "        const element = document.querySelector('#df-eda42179-d4cf-4309-9e19-6ea35108ac89');\n",
              "        const dataTable =\n",
              "          await google.colab.kernel.invokeFunction('convertToInteractive',\n",
              "                                                    [key], {});\n",
              "        if (!dataTable) return;\n",
              "\n",
              "        const docLinkHtml = 'Like what you see? Visit the ' +\n",
              "          '<a target=\"_blank\" href=https://colab.research.google.com/notebooks/data_table.ipynb>data table notebook</a>'\n",
              "          + ' to learn more about interactive tables.';\n",
              "        element.innerHTML = '';\n",
              "        dataTable['output_type'] = 'display_data';\n",
              "        await google.colab.output.renderOutput(dataTable, element);\n",
              "        const docLink = document.createElement('div');\n",
              "        docLink.innerHTML = docLinkHtml;\n",
              "        element.appendChild(docLink);\n",
              "      }\n",
              "    </script>\n",
              "  </div>\n",
              "\n",
              "\n",
              "<div id=\"df-ffda4509-acf2-43fa-a2a8-44d006911c59\">\n",
              "  <button class=\"colab-df-quickchart\" onclick=\"quickchart('df-ffda4509-acf2-43fa-a2a8-44d006911c59')\"\n",
              "            title=\"Suggest charts\"\n",
              "            style=\"display:none;\">\n",
              "\n",
              "<svg xmlns=\"http://www.w3.org/2000/svg\" height=\"24px\"viewBox=\"0 0 24 24\"\n",
              "     width=\"24px\">\n",
              "    <g>\n",
              "        <path d=\"M19 3H5c-1.1 0-2 .9-2 2v14c0 1.1.9 2 2 2h14c1.1 0 2-.9 2-2V5c0-1.1-.9-2-2-2zM9 17H7v-7h2v7zm4 0h-2V7h2v10zm4 0h-2v-4h2v4z\"/>\n",
              "    </g>\n",
              "</svg>\n",
              "  </button>\n",
              "\n",
              "<style>\n",
              "  .colab-df-quickchart {\n",
              "      --bg-color: #E8F0FE;\n",
              "      --fill-color: #1967D2;\n",
              "      --hover-bg-color: #E2EBFA;\n",
              "      --hover-fill-color: #174EA6;\n",
              "      --disabled-fill-color: #AAA;\n",
              "      --disabled-bg-color: #DDD;\n",
              "  }\n",
              "\n",
              "  [theme=dark] .colab-df-quickchart {\n",
              "      --bg-color: #3B4455;\n",
              "      --fill-color: #D2E3FC;\n",
              "      --hover-bg-color: #434B5C;\n",
              "      --hover-fill-color: #FFFFFF;\n",
              "      --disabled-bg-color: #3B4455;\n",
              "      --disabled-fill-color: #666;\n",
              "  }\n",
              "\n",
              "  .colab-df-quickchart {\n",
              "    background-color: var(--bg-color);\n",
              "    border: none;\n",
              "    border-radius: 50%;\n",
              "    cursor: pointer;\n",
              "    display: none;\n",
              "    fill: var(--fill-color);\n",
              "    height: 32px;\n",
              "    padding: 0;\n",
              "    width: 32px;\n",
              "  }\n",
              "\n",
              "  .colab-df-quickchart:hover {\n",
              "    background-color: var(--hover-bg-color);\n",
              "    box-shadow: 0 1px 2px rgba(60, 64, 67, 0.3), 0 1px 3px 1px rgba(60, 64, 67, 0.15);\n",
              "    fill: var(--button-hover-fill-color);\n",
              "  }\n",
              "\n",
              "  .colab-df-quickchart-complete:disabled,\n",
              "  .colab-df-quickchart-complete:disabled:hover {\n",
              "    background-color: var(--disabled-bg-color);\n",
              "    fill: var(--disabled-fill-color);\n",
              "    box-shadow: none;\n",
              "  }\n",
              "\n",
              "  .colab-df-spinner {\n",
              "    border: 2px solid var(--fill-color);\n",
              "    border-color: transparent;\n",
              "    border-bottom-color: var(--fill-color);\n",
              "    animation:\n",
              "      spin 1s steps(1) infinite;\n",
              "  }\n",
              "\n",
              "  @keyframes spin {\n",
              "    0% {\n",
              "      border-color: transparent;\n",
              "      border-bottom-color: var(--fill-color);\n",
              "      border-left-color: var(--fill-color);\n",
              "    }\n",
              "    20% {\n",
              "      border-color: transparent;\n",
              "      border-left-color: var(--fill-color);\n",
              "      border-top-color: var(--fill-color);\n",
              "    }\n",
              "    30% {\n",
              "      border-color: transparent;\n",
              "      border-left-color: var(--fill-color);\n",
              "      border-top-color: var(--fill-color);\n",
              "      border-right-color: var(--fill-color);\n",
              "    }\n",
              "    40% {\n",
              "      border-color: transparent;\n",
              "      border-right-color: var(--fill-color);\n",
              "      border-top-color: var(--fill-color);\n",
              "    }\n",
              "    60% {\n",
              "      border-color: transparent;\n",
              "      border-right-color: var(--fill-color);\n",
              "    }\n",
              "    80% {\n",
              "      border-color: transparent;\n",
              "      border-right-color: var(--fill-color);\n",
              "      border-bottom-color: var(--fill-color);\n",
              "    }\n",
              "    90% {\n",
              "      border-color: transparent;\n",
              "      border-bottom-color: var(--fill-color);\n",
              "    }\n",
              "  }\n",
              "</style>\n",
              "\n",
              "  <script>\n",
              "    async function quickchart(key) {\n",
              "      const quickchartButtonEl =\n",
              "        document.querySelector('#' + key + ' button');\n",
              "      quickchartButtonEl.disabled = true;  // To prevent multiple clicks.\n",
              "      quickchartButtonEl.classList.add('colab-df-spinner');\n",
              "      try {\n",
              "        const charts = await google.colab.kernel.invokeFunction(\n",
              "            'suggestCharts', [key], {});\n",
              "      } catch (error) {\n",
              "        console.error('Error during call to suggestCharts:', error);\n",
              "      }\n",
              "      quickchartButtonEl.classList.remove('colab-df-spinner');\n",
              "      quickchartButtonEl.classList.add('colab-df-quickchart-complete');\n",
              "    }\n",
              "    (() => {\n",
              "      let quickchartButtonEl =\n",
              "        document.querySelector('#df-ffda4509-acf2-43fa-a2a8-44d006911c59 button');\n",
              "      quickchartButtonEl.style.display =\n",
              "        google.colab.kernel.accessAllowed ? 'block' : 'none';\n",
              "    })();\n",
              "  </script>\n",
              "</div>\n",
              "\n",
              "    </div>\n",
              "  </div>\n"
            ]
          },
          "metadata": {},
          "execution_count": 108
        }
      ]
    },
    {
      "cell_type": "code",
      "source": [
        "# print the shape and data type of the dataframe\n",
        "print(data.shape)\n",
        "print(data.dtypes)"
      ],
      "metadata": {
        "id": "uB7K4qm28c5n"
      },
      "execution_count": null,
      "outputs": []
    },
    {
      "cell_type": "code",
      "source": [
        "# transform data to numeric to enable further analysis\n",
        "data = data.apply(pd.to_numeric)\n",
        "data.dtypes\n",
        "\n",
        "data.describe()"
      ],
      "metadata": {
        "id": "ZnrfakoY8ml2"
      },
      "execution_count": null,
      "outputs": []
    },
    {
      "cell_type": "code",
      "source": [],
      "metadata": {
        "id": "mMqt7XtQ8vgv"
      },
      "execution_count": null,
      "outputs": []
    },
    {
      "cell_type": "markdown",
      "source": [
        "# creating training and test dataset"
      ],
      "metadata": {
        "id": "zJP9O_xs9F-E"
      }
    },
    {
      "cell_type": "code",
      "source": [
        "X = np.array(data.drop(['target'], 1))\n",
        "y = np.array(data['target'])\n",
        "\n",
        "X[0]"
      ],
      "metadata": {
        "colab": {
          "base_uri": "https://localhost:8080/"
        },
        "id": "pG5lkTHY9N71",
        "outputId": "23f7db63-2035-4df9-d9a9-99923e0cc0aa"
      },
      "execution_count": 109,
      "outputs": [
        {
          "output_type": "stream",
          "name": "stderr",
          "text": [
            "<ipython-input-109-fa4d3e1bbf96>:1: FutureWarning: In a future version of pandas all arguments of DataFrame.drop except for the argument 'labels' will be keyword-only.\n",
            "  X = np.array(data.drop(['target'], 1))\n"
          ]
        },
        {
          "output_type": "execute_result",
          "data": {
            "text/plain": [
              "array([  0., 168.,   1.,   2.])"
            ]
          },
          "metadata": {},
          "execution_count": 109
        }
      ]
    },
    {
      "cell_type": "code",
      "source": [
        "mean = X.mean(axis=0)\n",
        "X -= mean\n",
        "std = X.std(axis=0)\n",
        "X /= std\n",
        "\n",
        "X[0]"
      ],
      "metadata": {
        "colab": {
          "base_uri": "https://localhost:8080/"
        },
        "id": "V6zgen3x9ROS",
        "outputId": "02c51678-8b0d-4cdc-e663-67ee5a9c70ac"
      },
      "execution_count": 110,
      "outputs": [
        {
          "output_type": "execute_result",
          "data": {
            "text/plain": [
              "array([-0.91575542,  0.82132052, -0.06088839,  1.20922066])"
            ]
          },
          "metadata": {},
          "execution_count": 110
        }
      ]
    },
    {
      "cell_type": "code",
      "source": [
        "# create X and Y datasets for training\n",
        "from sklearn import model_selection\n",
        "\n",
        "X_train, X_test, y_train, y_test = model_selection.train_test_split(X, y, stratify=y, random_state=42, test_size = 0.2)"
      ],
      "metadata": {
        "id": "hCcZMuS49be0"
      },
      "execution_count": 111,
      "outputs": []
    },
    {
      "cell_type": "code",
      "source": [
        "# convert the data to categorical labels\n",
        "from keras.utils import to_categorical\n",
        "\n"
      ],
      "metadata": {
        "id": "TIl9eu8K9gyB"
      },
      "execution_count": 63,
      "outputs": []
    },
    {
      "cell_type": "code",
      "source": [
        "Y_train = to_categorical(y_train, num_classes=None)\n",
        "Y_test = to_categorical(y_test, num_classes=None)\n",
        "print (Y_train.shape)\n",
        "print (Y_train[:10])"
      ],
      "metadata": {
        "id": "_lhQZ74F9kvN"
      },
      "execution_count": null,
      "outputs": []
    },
    {
      "cell_type": "code",
      "source": [
        "X_train[0]"
      ],
      "metadata": {
        "id": "hHX2kZch9-oS"
      },
      "execution_count": null,
      "outputs": []
    },
    {
      "cell_type": "code",
      "source": [
        "y_train[819]"
      ],
      "metadata": {
        "id": "IvZTauFG-KRl"
      },
      "execution_count": null,
      "outputs": []
    },
    {
      "cell_type": "code",
      "source": [
        "from tensorflow.keras.models import Model"
      ],
      "metadata": {
        "id": "Ix7Q-znhRbh2"
      },
      "execution_count": 38,
      "outputs": []
    },
    {
      "cell_type": "code",
      "source": [
        "#try to get accuracy but no solution cz of noisse data\n",
        "from sklearn.metrics import accuracy_score\n",
        "from tensorflow.keras.models import Sequential\n",
        "from sklearn.tree import DecisionTreeClassifier\n",
        "clf = DecisionTreeClassifier()\n",
        "history = clf.fit(X_train,y_train)\n",
        "y_pred = clf.predict(X_test)\n",
        "accuraccy = accuracy_score(y_test,y_pred)\n",
        "print (\"acc:\", accuraccy)"
      ],
      "metadata": {
        "id": "MCHNCrVr-Nvx",
        "colab": {
          "base_uri": "https://localhost:8080/"
        },
        "outputId": "fda0ab8b-d8d4-49a4-e800-5bb161b98a47"
      },
      "execution_count": 113,
      "outputs": [
        {
          "output_type": "stream",
          "name": "stdout",
          "text": [
            "acc: 0.9902439024390244\n"
          ]
        }
      ]
    },
    {
      "cell_type": "markdown",
      "source": [
        "# Building and training Neural network\n"
      ],
      "metadata": {
        "id": "inw1Whs5-Xec"
      }
    },
    {
      "cell_type": "code",
      "source": [
        "from keras.models import Sequential\n",
        "from keras.layers import Dense\n",
        "from keras.optimizers import Adam\n",
        "from keras.layers import Dropout\n",
        "from keras import regularizers\n"
      ],
      "metadata": {
        "id": "rmZoHgBe-lNN"
      },
      "execution_count": 48,
      "outputs": []
    },
    {
      "cell_type": "code",
      "source": [
        "\n",
        "# define a function to build the keras model\n",
        "def create_model():\n",
        "    # create model\n",
        "    model = Sequential()\n",
        "    model.add(Dense(16, input_dim=4, kernel_initializer='normal',  activation='relu'))\n",
        "    model.add(Dropout(0.25))\n",
        "    model.add(Dense(8, kernel_initializer='normal',  activation='relu'))\n",
        "    model.add(Dropout(0.25))\n",
        "    model.add(Dense(1, activation='sigmoid'))\n",
        "\n",
        "    # compile model\n",
        "    adam = Adam(lr=0.001)\n",
        "    model.compile(loss='binary_crossentropy', optimizer='adam', metrics=['accuracy'])\n",
        "    return model\n",
        "\n",
        "model = create_model()\n",
        "\n",
        "print(model.summary())"
      ],
      "metadata": {
        "id": "B0m3sm2--tCW",
        "colab": {
          "base_uri": "https://localhost:8080/"
        },
        "outputId": "97944c2a-f987-4cf6-f67a-5d4d8de7a6c5"
      },
      "execution_count": 115,
      "outputs": [
        {
          "output_type": "stream",
          "name": "stderr",
          "text": [
            "WARNING:absl:`lr` is deprecated in Keras optimizer, please use `learning_rate` or use the legacy optimizer, e.g.,tf.keras.optimizers.legacy.Adam.\n"
          ]
        },
        {
          "output_type": "stream",
          "name": "stdout",
          "text": [
            "Model: \"sequential_12\"\n",
            "_________________________________________________________________\n",
            " Layer (type)                Output Shape              Param #   \n",
            "=================================================================\n",
            " dense_36 (Dense)            (None, 16)                80        \n",
            "                                                                 \n",
            " dropout_24 (Dropout)        (None, 16)                0         \n",
            "                                                                 \n",
            " dense_37 (Dense)            (None, 8)                 136       \n",
            "                                                                 \n",
            " dropout_25 (Dropout)        (None, 8)                 0         \n",
            "                                                                 \n",
            " dense_38 (Dense)            (None, 1)                 9         \n",
            "                                                                 \n",
            "=================================================================\n",
            "Total params: 225 (900.00 Byte)\n",
            "Trainable params: 225 (900.00 Byte)\n",
            "Non-trainable params: 0 (0.00 Byte)\n",
            "_________________________________________________________________\n",
            "None\n"
          ]
        }
      ]
    },
    {
      "cell_type": "code",
      "source": [
        "# fit the model to the training data\n",
        "history = model.fit(X_train, y_train, epochs=20, batch_size=32, validation_data=(X_test, y_test))\n",
        "accuracy = model.evaluate(X_test, y_test)\n",
        "print(\"accuracy:\", accuracy)\n",
        "#history= model.fit(X_train, Y_train, validation_data=(X_test, Y_test),epochs=50, batch_size=20)"
      ],
      "metadata": {
        "id": "xX4sdq3q-t9a",
        "colab": {
          "base_uri": "https://localhost:8080/"
        },
        "outputId": "8be454cb-85c6-43bd-aa89-a7dcd18fb50d"
      },
      "execution_count": 116,
      "outputs": [
        {
          "output_type": "stream",
          "name": "stdout",
          "text": [
            "Epoch 1/20\n",
            "26/26 [==============================] - 1s 10ms/step - loss: 0.6849 - accuracy: 0.5866 - val_loss: 0.6750 - val_accuracy: 0.6537\n",
            "Epoch 2/20\n",
            "26/26 [==============================] - 0s 3ms/step - loss: 0.6621 - accuracy: 0.6500 - val_loss: 0.6385 - val_accuracy: 0.7073\n",
            "Epoch 3/20\n",
            "26/26 [==============================] - 0s 3ms/step - loss: 0.6160 - accuracy: 0.7183 - val_loss: 0.5911 - val_accuracy: 0.7561\n",
            "Epoch 4/20\n",
            "26/26 [==============================] - 0s 4ms/step - loss: 0.5826 - accuracy: 0.7524 - val_loss: 0.5582 - val_accuracy: 0.7902\n",
            "Epoch 5/20\n",
            "26/26 [==============================] - 0s 3ms/step - loss: 0.5566 - accuracy: 0.7829 - val_loss: 0.5410 - val_accuracy: 0.8049\n",
            "Epoch 6/20\n",
            "26/26 [==============================] - 0s 3ms/step - loss: 0.5444 - accuracy: 0.8049 - val_loss: 0.5310 - val_accuracy: 0.8341\n",
            "Epoch 7/20\n",
            "26/26 [==============================] - 0s 3ms/step - loss: 0.5415 - accuracy: 0.8098 - val_loss: 0.5264 - val_accuracy: 0.8390\n",
            "Epoch 8/20\n",
            "26/26 [==============================] - 0s 4ms/step - loss: 0.5386 - accuracy: 0.8195 - val_loss: 0.5212 - val_accuracy: 0.8341\n",
            "Epoch 9/20\n",
            "26/26 [==============================] - 0s 4ms/step - loss: 0.5294 - accuracy: 0.8232 - val_loss: 0.5175 - val_accuracy: 0.8341\n",
            "Epoch 10/20\n",
            "26/26 [==============================] - 0s 4ms/step - loss: 0.5180 - accuracy: 0.8220 - val_loss: 0.5131 - val_accuracy: 0.8390\n",
            "Epoch 11/20\n",
            "26/26 [==============================] - 0s 3ms/step - loss: 0.5167 - accuracy: 0.8146 - val_loss: 0.5087 - val_accuracy: 0.8439\n",
            "Epoch 12/20\n",
            "26/26 [==============================] - 0s 3ms/step - loss: 0.5225 - accuracy: 0.8268 - val_loss: 0.5058 - val_accuracy: 0.8293\n",
            "Epoch 13/20\n",
            "26/26 [==============================] - 0s 3ms/step - loss: 0.5111 - accuracy: 0.8171 - val_loss: 0.5037 - val_accuracy: 0.8439\n",
            "Epoch 14/20\n",
            "26/26 [==============================] - 0s 3ms/step - loss: 0.5158 - accuracy: 0.8220 - val_loss: 0.5001 - val_accuracy: 0.8439\n",
            "Epoch 15/20\n",
            "26/26 [==============================] - 0s 5ms/step - loss: 0.5053 - accuracy: 0.8220 - val_loss: 0.4962 - val_accuracy: 0.8439\n",
            "Epoch 16/20\n",
            "26/26 [==============================] - 0s 5ms/step - loss: 0.5037 - accuracy: 0.8305 - val_loss: 0.4939 - val_accuracy: 0.8439\n",
            "Epoch 17/20\n",
            "26/26 [==============================] - 0s 4ms/step - loss: 0.4984 - accuracy: 0.8220 - val_loss: 0.4927 - val_accuracy: 0.8439\n",
            "Epoch 18/20\n",
            "26/26 [==============================] - 0s 5ms/step - loss: 0.4915 - accuracy: 0.8195 - val_loss: 0.4894 - val_accuracy: 0.8439\n",
            "Epoch 19/20\n",
            "26/26 [==============================] - 0s 5ms/step - loss: 0.5006 - accuracy: 0.8207 - val_loss: 0.4862 - val_accuracy: 0.8439\n",
            "Epoch 20/20\n",
            "26/26 [==============================] - 0s 5ms/step - loss: 0.4942 - accuracy: 0.8293 - val_loss: 0.4836 - val_accuracy: 0.8439\n",
            "7/7 [==============================] - 0s 4ms/step - loss: 0.4836 - accuracy: 0.8439\n",
            "accuracy: [0.4835788607597351, 0.8439024686813354]\n"
          ]
        }
      ]
    },
    {
      "cell_type": "code",
      "source": [
        "import matplotlib.pyplot as plt\n",
        "#%matplotlib inline\n",
        "# Model accuracy\n",
        "plt.plot(history.history['accuracy'])\n",
        "plt.plot(history.history['val_accuracy'])\n",
        "plt.title('Model Accuracy')\n",
        "plt.ylabel('accuracy')\n",
        "plt.xlabel('epoch')\n",
        "plt.legend(['train', 'test'])\n",
        "plt.show()"
      ],
      "metadata": {
        "id": "MfIKnlWU-3B_",
        "colab": {
          "base_uri": "https://localhost:8080/",
          "height": 472
        },
        "outputId": "f4fa8c97-984e-45e8-a0fc-e7c95e392c9b"
      },
      "execution_count": 117,
      "outputs": [
        {
          "output_type": "display_data",
          "data": {
            "text/plain": [
              "<Figure size 640x480 with 1 Axes>"
            ],
            "image/png": "[encoded data removed]"
          },
          "metadata": {}
        }
      ]
    },
    {
      "cell_type": "code",
      "source": [
        "# Model Losss\n",
        "plt.plot(history.history['loss'])\n",
        "plt.plot(history.history['val_loss'])\n",
        "plt.title('Model Loss')\n",
        "plt.ylabel('loss')\n",
        "plt.xlabel('epoch')\n",
        "plt.legend(['train', 'test'])\n",
        "plt.show()"
      ],
      "metadata": {
        "id": "CwbOeCVn_D7v"
      },
      "execution_count": null,
      "outputs": []
    },
    {
      "cell_type": "code",
      "source": [
        "accuracy"
      ],
      "metadata": {
        "id": "mw6wB5fUAHFR",
        "colab": {
          "base_uri": "https://localhost:8080/"
        },
        "outputId": "9280b168-8a2f-4087-d469-0b261f21b769"
      },
      "execution_count": 105,
      "outputs": [
        {
          "output_type": "execute_result",
          "data": {
            "text/plain": [
              "[0.40286192297935486, 0.8341463208198547]"
            ]
          },
          "metadata": {},
          "execution_count": 105
        }
      ]
    },
    {
      "cell_type": "code",
      "source": [
        "# generate classification report using predictions for binary model\n",
        "from sklearn.metrics import classification_report, accuracy_score\n",
        "\n",
        "model = np.round(model.predict(X_test)).astype(int)\n",
        "\n",
        "print('Results for Binary Model')\n",
        "print(accuracy_score(y_test, model))\n",
        "print(classification_report(y_test, model))"
      ],
      "metadata": {
        "colab": {
          "base_uri": "https://localhost:8080/"
        },
        "id": "f9UeqJ_5lZKQ",
        "outputId": "004f0d5b-cff6-4441-d556-50730e3aa50b"
      },
      "execution_count": 118,
      "outputs": [
        {
          "output_type": "stream",
          "name": "stdout",
          "text": [
            "7/7 [==============================] - 0s 2ms/step\n",
            "Results for Binary Model\n",
            "0.8439024390243902\n",
            "              precision    recall  f1-score   support\n",
            "\n",
            "           0       0.89      0.78      0.83       100\n",
            "           1       0.81      0.90      0.86       105\n",
            "\n",
            "    accuracy                           0.84       205\n",
            "   macro avg       0.85      0.84      0.84       205\n",
            "weighted avg       0.85      0.84      0.84       205\n",
            "\n"
          ]
        }
      ]
    },
    {
      "cell_type": "markdown",
      "source": [
        "# Improving Results - A Binary Classification Problem"
      ],
      "metadata": {
        "id": "TsuIzTr8Abhe"
      }
    },
    {
      "cell_type": "code",
      "source": [
        "# convert into binary classification problem - heart disease or no heart disease\n",
        "Y_train_binary = y_train.copy()\n",
        "Y_test_binary = y_test.copy()\n",
        "\n",
        "Y_train_binary[Y_train_binary > 0] = 1\n",
        "Y_test_binary[Y_test_binary > 0] = 1\n",
        "\n",
        "print(Y_train_binary[:20])\n",
        "print(Y_test_binary[:20])"
      ],
      "metadata": {
        "id": "j78cnWVoAePe",
        "colab": {
          "base_uri": "https://localhost:8080/"
        },
        "outputId": "1befd1f4-f7fa-41ed-bacf-093b1d785e0c"
      },
      "execution_count": 24,
      "outputs": [
        {
          "output_type": "stream",
          "name": "stdout",
          "text": [
            "[0 0 0 1 1 0 0 1 1 0 1 1 0 0 0 1 0 1 1 0]\n",
            "[0 1 0 1 0 0 1 0 1 1 0 1 0 0 1 0 0 0 0 1]\n"
          ]
        }
      ]
    },
    {
      "cell_type": "code",
      "source": [
        "# define a new keras model for binary classification\n",
        "def create_binary_model():\n",
        "    # create model\n",
        "    model = Sequential()\n",
        "    model.add(Dense(16, input_dim=8, kernel_initializer='normal',  activation='relu'))\n",
        "    model.add(Dropout(0.25))\n",
        "    model.add(Dense(8, kernel_initializer='normal',  activation='relu'))\n",
        "    model.add(Dropout(0.25))\n",
        "    model.add(Dense(1, activation='sigmoid'))\n",
        "\n",
        "    # Compile model\n",
        "    adam = Adam(lr=0.001)\n",
        "    model.compile(loss='binary_crossentropy', optimizer='rmsprop', metrics=['accuracy'])\n",
        "    return model\n",
        "\n",
        "binary_model = create_binary_model()\n",
        "\n",
        "print(binary_model.summary())"
      ],
      "metadata": {
        "id": "fCLcg6EtAgTr",
        "colab": {
          "base_uri": "https://localhost:8080/"
        },
        "outputId": "611f71d0-1a7f-4144-e40c-61d602e5d0b5"
      },
      "execution_count": 27,
      "outputs": [
        {
          "output_type": "stream",
          "name": "stderr",
          "text": [
            "WARNING:absl:`lr` is deprecated in Keras optimizer, please use `learning_rate` or use the legacy optimizer, e.g.,tf.keras.optimizers.legacy.Adam.\n"
          ]
        },
        {
          "output_type": "stream",
          "name": "stdout",
          "text": [
            "Model: \"sequential_2\"\n",
            "_________________________________________________________________\n",
            " Layer (type)                Output Shape              Param #   \n",
            "=================================================================\n",
            " dense_6 (Dense)             (None, 16)                144       \n",
            "                                                                 \n",
            " dropout_4 (Dropout)         (None, 16)                0         \n",
            "                                                                 \n",
            " dense_7 (Dense)             (None, 8)                 136       \n",
            "                                                                 \n",
            " dropout_5 (Dropout)         (None, 8)                 0         \n",
            "                                                                 \n",
            " dense_8 (Dense)             (None, 1)                 9         \n",
            "                                                                 \n",
            "=================================================================\n",
            "Total params: 289 (1.13 KB)\n",
            "Trainable params: 289 (1.13 KB)\n",
            "Non-trainable params: 0 (0.00 Byte)\n",
            "_________________________________________________________________\n",
            "None\n"
          ]
        }
      ]
    },
    {
      "cell_type": "code",
      "source": [
        "# fit the model to the training data\n",
        "#history=model.fit(X_train, Y_train, validation_data=(X_test, Y_test),epochs=50, batch_size=20)\n",
        "history = binary_model.fit(X_train, y_train, epochs=20, batch_size=32, validation_data=(X_test, y_test))\n",
        "accuracy = binary_model.evaluate(X_test, Y_test_binary)\n",
        "print(\"accuracy:\", accuracy)"
      ],
      "metadata": {
        "id": "OVcy7NQPR8Fi",
        "colab": {
          "base_uri": "https://localhost:8080/"
        },
        "outputId": "a65ac421-acfb-4624-e593-f856c4b27e3e"
      },
      "execution_count": 28,
      "outputs": [
        {
          "output_type": "stream",
          "name": "stdout",
          "text": [
            "Epoch 1/20\n",
            "26/26 [==============================] - 1s 9ms/step - loss: 0.6870 - accuracy: 0.6049 - val_loss: 0.6754 - val_accuracy: 0.7707\n",
            "Epoch 2/20\n",
            "26/26 [==============================] - 0s 3ms/step - loss: 0.6597 - accuracy: 0.7476 - val_loss: 0.6380 - val_accuracy: 0.8098\n",
            "Epoch 3/20\n",
            "26/26 [==============================] - 0s 3ms/step - loss: 0.6149 - accuracy: 0.7805 - val_loss: 0.5900 - val_accuracy: 0.8195\n",
            "Epoch 4/20\n",
            "26/26 [==============================] - 0s 5ms/step - loss: 0.5742 - accuracy: 0.7951 - val_loss: 0.5416 - val_accuracy: 0.8244\n",
            "Epoch 5/20\n",
            "26/26 [==============================] - 0s 5ms/step - loss: 0.5223 - accuracy: 0.8061 - val_loss: 0.4964 - val_accuracy: 0.8244\n",
            "Epoch 6/20\n",
            "26/26 [==============================] - 0s 5ms/step - loss: 0.4983 - accuracy: 0.8098 - val_loss: 0.4660 - val_accuracy: 0.8146\n",
            "Epoch 7/20\n",
            "26/26 [==============================] - 0s 5ms/step - loss: 0.4777 - accuracy: 0.8098 - val_loss: 0.4491 - val_accuracy: 0.8244\n",
            "Epoch 8/20\n",
            "26/26 [==============================] - 0s 5ms/step - loss: 0.4576 - accuracy: 0.8232 - val_loss: 0.4364 - val_accuracy: 0.8244\n",
            "Epoch 9/20\n",
            "26/26 [==============================] - 0s 4ms/step - loss: 0.4419 - accuracy: 0.8159 - val_loss: 0.4285 - val_accuracy: 0.8341\n",
            "Epoch 10/20\n",
            "26/26 [==============================] - 0s 5ms/step - loss: 0.4419 - accuracy: 0.8232 - val_loss: 0.4238 - val_accuracy: 0.8244\n",
            "Epoch 11/20\n",
            "26/26 [==============================] - 0s 4ms/step - loss: 0.4350 - accuracy: 0.8159 - val_loss: 0.4198 - val_accuracy: 0.8293\n",
            "Epoch 12/20\n",
            "26/26 [==============================] - 0s 5ms/step - loss: 0.4323 - accuracy: 0.8256 - val_loss: 0.4166 - val_accuracy: 0.8293\n",
            "Epoch 13/20\n",
            "26/26 [==============================] - 0s 4ms/step - loss: 0.4375 - accuracy: 0.8183 - val_loss: 0.4148 - val_accuracy: 0.8293\n",
            "Epoch 14/20\n",
            "26/26 [==============================] - 0s 7ms/step - loss: 0.4340 - accuracy: 0.8171 - val_loss: 0.4116 - val_accuracy: 0.8293\n",
            "Epoch 15/20\n",
            "26/26 [==============================] - 0s 5ms/step - loss: 0.4400 - accuracy: 0.8207 - val_loss: 0.4101 - val_accuracy: 0.8293\n",
            "Epoch 16/20\n",
            "26/26 [==============================] - 0s 5ms/step - loss: 0.4204 - accuracy: 0.8329 - val_loss: 0.4068 - val_accuracy: 0.8293\n",
            "Epoch 17/20\n",
            "26/26 [==============================] - 0s 4ms/step - loss: 0.4236 - accuracy: 0.8293 - val_loss: 0.4058 - val_accuracy: 0.8390\n",
            "Epoch 18/20\n",
            "26/26 [==============================] - 0s 4ms/step - loss: 0.4210 - accuracy: 0.8329 - val_loss: 0.4058 - val_accuracy: 0.8439\n",
            "Epoch 19/20\n",
            "26/26 [==============================] - 0s 4ms/step - loss: 0.4138 - accuracy: 0.8402 - val_loss: 0.4015 - val_accuracy: 0.8341\n",
            "Epoch 20/20\n",
            "26/26 [==============================] - 0s 5ms/step - loss: 0.4313 - accuracy: 0.8207 - val_loss: 0.4000 - val_accuracy: 0.8341\n",
            "7/7 [==============================] - 0s 3ms/step - loss: 0.4000 - accuracy: 0.8341\n",
            "accuracy: [0.39996007084846497, 0.8341463208198547]\n"
          ]
        }
      ]
    },
    {
      "cell_type": "code",
      "source": [
        "import matplotlib.pyplot as plt\n",
        "#%matplotlib inline\n",
        "# Model accuracy\n",
        "plt.plot(history.history['accuracy'])\n",
        "plt.plot(history.history['val_accuracy'])\n",
        "plt.title('Model Accuracy')\n",
        "plt.ylabel('accuracy')\n",
        "plt.xlabel('epoch')\n",
        "plt.legend(['train', 'test'])\n",
        "plt.show()"
      ],
      "metadata": {
        "id": "QQ7bE5MQSSK4",
        "colab": {
          "base_uri": "https://localhost:8080/",
          "height": 472
        },
        "outputId": "81261eee-994c-4e98-ab99-7ee331c5b5db"
      },
      "execution_count": 29,
      "outputs": [
        {
          "output_type": "display_data",
          "data": {
            "text/plain": [
              "<Figure size 640x480 with 1 Axes>"
            ],
            "image/png": "[encoded data removed]"
          },
          "metadata": {}
        }
      ]
    },
    {
      "cell_type": "markdown",
      "source": [],
      "metadata": {
        "id": "aUPiLViUQGAb"
      }
    },
    {
      "cell_type": "code",
      "source": [
        "# Model Losss\n",
        "plt.plot(history.history['loss'])\n",
        "plt.plot(history.history['val_loss'])\n",
        "plt.title('Model Loss')\n",
        "plt.ylabel('loss')\n",
        "plt.xlabel('epoch')\n",
        "plt.legend(['train', 'test'])\n",
        "plt.show()"
      ],
      "metadata": {
        "id": "PjfpiFHTSlO-",
        "colab": {
          "base_uri": "https://localhost:8080/",
          "height": 472
        },
        "outputId": "7cca9e8b-1d56-44a7-d427-621f805dc9c9"
      },
      "execution_count": 30,
      "outputs": [
        {
          "output_type": "display_data",
          "data": {
            "text/plain": [
              "<Figure size 640x480 with 1 Axes>"
            ],
            "image/png": "[encoded data removed]"
          },
          "metadata": {}
        }
      ]
    },
    {
      "cell_type": "code",
      "source": [],
      "metadata": {
        "id": "1LWDW836Spq1"
      },
      "execution_count": null,
      "outputs": []
    },
    {
      "cell_type": "markdown",
      "source": [
        "# result and matrix"
      ],
      "metadata": {
        "id": "V150gh2ISsXm"
      }
    },
    {
      "cell_type": "code",
      "source": [
        "# generate classification report using predictions for categorical model\n",
        "from sklearn.metrics import classification_report, accuracy_score\n",
        "\n",
        "categorical_pred = np.argmax(model.predict(X_test), axis=1)\n",
        "\n",
        "print('Results for Categorical Model')\n",
        "print(accuracy_score(y_test, categorical_pred))\n",
        "print(classification_report(y_test, categorical_pred))"
      ],
      "metadata": {
        "id": "ccjs-UiXSvsX"
      },
      "execution_count": null,
      "outputs": []
    },
    {
      "cell_type": "code",
      "source": [
        "# generate classification report using predictions for binary model\n",
        "from sklearn.metrics import classification_report, accuracy_score\n",
        "\n",
        "binary_pred = np.round(binary_model.predict(X_test)).astype(int)\n",
        "\n",
        "print('Results for Binary Model')\n",
        "print(accuracy_score(Y_test_binary, binary_pred))\n",
        "print(classification_report(Y_test_binary, binary_pred))"
      ],
      "metadata": {
        "id": "wlq8rSD4SwX0",
        "colab": {
          "base_uri": "https://localhost:8080/"
        },
        "outputId": "d23ad69e-3a93-482e-9374-451b3bc7b083"
      },
      "execution_count": 32,
      "outputs": [
        {
          "output_type": "stream",
          "name": "stdout",
          "text": [
            "7/7 [==============================] - 0s 2ms/step\n",
            "Results for Binary Model\n",
            "0.8341463414634146\n",
            "              precision    recall  f1-score   support\n",
            "\n",
            "           0       0.89      0.75      0.82       100\n",
            "           1       0.79      0.91      0.85       105\n",
            "\n",
            "    accuracy                           0.83       205\n",
            "   macro avg       0.84      0.83      0.83       205\n",
            "weighted avg       0.84      0.83      0.83       205\n",
            "\n"
          ]
        }
      ]
    },
    {
      "cell_type": "code",
      "source": [],
      "metadata": {
        "id": "R1M0j7R2S19I"
      },
      "execution_count": null,
      "outputs": []
    }
  ]
}